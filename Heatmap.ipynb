{
 "cells": [
  {
   "cell_type": "code",
   "execution_count": null,
   "metadata": {},
   "outputs": [],
   "source": [
    "import seaborn as sns\n",
    "import pandas as pd\n",
    "import numpy as np\n",
    "import matplotlib.pyplot as plt\n",
    "from tqdm import tqdm\n",
    "import networkx as nx"
   ]
  },
  {
   "cell_type": "code",
   "execution_count": null,
   "metadata": {},
   "outputs": [],
   "source": [
    "# score_type can be 'ORF' or 'CRISPR'\n",
    "score_type = 'ORF'\n",
    "#score_type = 'CRISPR'\n",
    "\n",
    "dfscores = pd.read_csv('data/'+score_type.lower()+'_scores_merged.tsv',sep='\\t')\n",
    "#dfscores = pd.read_csv('/mnt/c/Datas/MorphMap/crispr_scores_merged.tsv',sep='\\t')\n",
    "#label = 'CRISPR'\n",
    "label = score_type\n",
    "display(dfscores)"
   ]
  },
  {
   "cell_type": "code",
   "execution_count": null,
   "metadata": {},
   "outputs": [],
   "source": [
    "# Example : we select all connections between a gene and other genes\n",
    "\n",
    "gene_name = 'YAP1'\n",
    "\n",
    "dfscores_filtered = dfscores.loc[((dfscores['GENE1']==gene_name)|(dfscores['GENE2']==gene_name))&(dfscores['ABS_'+label+'_SIM']>0.4)]\n",
    "display(dfscores_filtered)\n",
    "dfscores_filtered.to_csv('data/'+gene_name+'_'+label+'_scores.tsv',sep='\\t',index=False)\n",
    "conns = list(set(list(dfscores_filtered['GENE1'])+list(dfscores_filtered['GENE2'])))\n",
    "conns.sort()\n",
    "for g in conns:\n",
    "    if not g==gene_name:\n",
    "        print(g)"
   ]
  },
  {
   "cell_type": "code",
   "execution_count": null,
   "metadata": {},
   "outputs": [],
   "source": [
    "# Create the clustergram (conns can be replaced with any list of genes)\n",
    "\n",
    "genes1 = list(conns)\n",
    "dfscores_subm = dfscores.loc[((dfscores['GENE1'].isin(genes1))&(dfscores['GENE2'].isin(genes1)))]\n",
    "#score_name = 'ABS_'+label+'_SIM'\n",
    "score_name = label+'_SIM'\n",
    "#score_name = 'unsupervised_max'\n",
    "#score_name = 'gene_bp'\n",
    "#score_name_annot = 'gene_bp'\n",
    "#score_name_annot = 'ABS_'+label+'_SIM'\n",
    "score_name_annot = label+'_SIM'\n",
    "score_name_annot = 'unsupervised_max'\n",
    "scores_dict = {}\n",
    "scores_dict_annot = {}\n",
    "for i,row in dfscores_subm.iterrows():\n",
    "    scores_dict[(row['GENE1'],row['GENE2'])] = row[score_name]\n",
    "    scores_dict[(row['GENE2'],row['GENE1'])] = row[score_name]\n",
    "    scores_dict_annot[(row['GENE1'],row['GENE2'])] = row[score_name_annot]\n",
    "    scores_dict_annot[(row['GENE2'],row['GENE1'])] = row[score_name_annot]\n",
    "\n",
    "display(dfscores_subm)\n",
    "sc_matrix = np.zeros([len(genes1),len(genes1)])\n",
    "sc_matrix_annot = np.zeros([len(genes1),len(genes1)])\n",
    "for i,gi in enumerate(genes1):\n",
    "    for j,gj in enumerate(genes1):\n",
    "        if i==j:\n",
    "            sc_matrix[i,j] = 1.0\n",
    "            sc_matrix_annot[i,j] = 1.0            \n",
    "        else:\n",
    "            sc_matrix[i,j] = scores_dict[(gi,gj)]\n",
    "            sc_matrix[j,i] = scores_dict[(gj,gi)]\n",
    "            sc_matrix_annot[i,j] = scores_dict_annot[(gi,gj)]\n",
    "            sc_matrix_annot[j,i] = scores_dict_annot[(gj,gi)]\n",
    "\n",
    "df = pd.DataFrame(data=sc_matrix,columns=genes1)\n",
    "df.index = genes1\n",
    "plt.rcParams['figure.dpi'] = 300\n",
    "sns.set(font_scale = 0.8)\n",
    "sns.clustermap(df,vmin=-1,vmax=1,annot=sc_matrix_annot,xticklabels=True,annot_kws={\"size\": 5},cmap='vlag')\n",
    "plt.title(score_name)"
   ]
  },
  {
   "cell_type": "code",
   "execution_count": null,
   "metadata": {},
   "outputs": [],
   "source": []
  }
 ],
 "metadata": {
  "kernelspec": {
   "display_name": "evord-evognn-lib-JQhEMozN-py3.10",
   "language": "python",
   "name": "python3"
  },
  "language_info": {
   "codemirror_mode": {
    "name": "ipython",
    "version": 3
   },
   "file_extension": ".py",
   "mimetype": "text/x-python",
   "name": "python",
   "nbconvert_exporter": "python",
   "pygments_lexer": "ipython3",
   "version": "3.10.10"
  }
 },
 "nbformat": 4,
 "nbformat_minor": 2
}
